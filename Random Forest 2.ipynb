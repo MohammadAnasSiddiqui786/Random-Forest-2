{
 "cells": [
  {
   "cell_type": "code",
   "execution_count": 1,
   "metadata": {
    "ExecuteTime": {
     "end_time": "2021-12-28T21:08:59.532496Z",
     "start_time": "2021-12-28T21:08:55.958131Z"
    }
   },
   "outputs": [],
   "source": [
    "from pandas import read_csv\n",
    "from sklearn.model_selection import KFold\n",
    "from sklearn.model_selection import cross_val_score\n",
    "from sklearn.ensemble import RandomForestClassifier\n",
    "import pandas as pd\n",
    "from sklearn.model_selection import train_test_split\n",
    "from sklearn.metrics import accuracy_score, confusion_matrix"
   ]
  },
  {
   "cell_type": "code",
   "execution_count": 2,
   "metadata": {
    "ExecuteTime": {
     "end_time": "2021-12-28T21:08:59.610806Z",
     "start_time": "2021-12-28T21:08:59.568218Z"
    }
   },
   "outputs": [],
   "source": [
    "df= read_csv(\"Company_Data (1).csv\")"
   ]
  },
  {
   "cell_type": "code",
   "execution_count": 3,
   "metadata": {
    "ExecuteTime": {
     "end_time": "2021-12-28T21:09:00.660133Z",
     "start_time": "2021-12-28T21:08:59.690622Z"
    }
   },
   "outputs": [
    {
     "data": {
      "text/html": [
       "<div>\n",
       "<style scoped>\n",
       "    .dataframe tbody tr th:only-of-type {\n",
       "        vertical-align: middle;\n",
       "    }\n",
       "\n",
       "    .dataframe tbody tr th {\n",
       "        vertical-align: top;\n",
       "    }\n",
       "\n",
       "    .dataframe thead th {\n",
       "        text-align: right;\n",
       "    }\n",
       "</style>\n",
       "<table border=\"1\" class=\"dataframe\">\n",
       "  <thead>\n",
       "    <tr style=\"text-align: right;\">\n",
       "      <th></th>\n",
       "      <th>Sales</th>\n",
       "      <th>CompPrice</th>\n",
       "      <th>Income</th>\n",
       "      <th>Advertising</th>\n",
       "      <th>Population</th>\n",
       "      <th>Price</th>\n",
       "      <th>ShelveLoc</th>\n",
       "      <th>Age</th>\n",
       "      <th>Education</th>\n",
       "      <th>Urban</th>\n",
       "      <th>US</th>\n",
       "    </tr>\n",
       "  </thead>\n",
       "  <tbody>\n",
       "    <tr>\n",
       "      <th>0</th>\n",
       "      <td>9.50</td>\n",
       "      <td>138</td>\n",
       "      <td>73</td>\n",
       "      <td>11</td>\n",
       "      <td>276</td>\n",
       "      <td>120</td>\n",
       "      <td>Bad</td>\n",
       "      <td>42</td>\n",
       "      <td>17</td>\n",
       "      <td>Yes</td>\n",
       "      <td>Yes</td>\n",
       "    </tr>\n",
       "    <tr>\n",
       "      <th>1</th>\n",
       "      <td>11.22</td>\n",
       "      <td>111</td>\n",
       "      <td>48</td>\n",
       "      <td>16</td>\n",
       "      <td>260</td>\n",
       "      <td>83</td>\n",
       "      <td>Good</td>\n",
       "      <td>65</td>\n",
       "      <td>10</td>\n",
       "      <td>Yes</td>\n",
       "      <td>Yes</td>\n",
       "    </tr>\n",
       "    <tr>\n",
       "      <th>2</th>\n",
       "      <td>10.06</td>\n",
       "      <td>113</td>\n",
       "      <td>35</td>\n",
       "      <td>10</td>\n",
       "      <td>269</td>\n",
       "      <td>80</td>\n",
       "      <td>Medium</td>\n",
       "      <td>59</td>\n",
       "      <td>12</td>\n",
       "      <td>Yes</td>\n",
       "      <td>Yes</td>\n",
       "    </tr>\n",
       "    <tr>\n",
       "      <th>3</th>\n",
       "      <td>7.40</td>\n",
       "      <td>117</td>\n",
       "      <td>100</td>\n",
       "      <td>4</td>\n",
       "      <td>466</td>\n",
       "      <td>97</td>\n",
       "      <td>Medium</td>\n",
       "      <td>55</td>\n",
       "      <td>14</td>\n",
       "      <td>Yes</td>\n",
       "      <td>Yes</td>\n",
       "    </tr>\n",
       "    <tr>\n",
       "      <th>4</th>\n",
       "      <td>4.15</td>\n",
       "      <td>141</td>\n",
       "      <td>64</td>\n",
       "      <td>3</td>\n",
       "      <td>340</td>\n",
       "      <td>128</td>\n",
       "      <td>Bad</td>\n",
       "      <td>38</td>\n",
       "      <td>13</td>\n",
       "      <td>Yes</td>\n",
       "      <td>No</td>\n",
       "    </tr>\n",
       "    <tr>\n",
       "      <th>...</th>\n",
       "      <td>...</td>\n",
       "      <td>...</td>\n",
       "      <td>...</td>\n",
       "      <td>...</td>\n",
       "      <td>...</td>\n",
       "      <td>...</td>\n",
       "      <td>...</td>\n",
       "      <td>...</td>\n",
       "      <td>...</td>\n",
       "      <td>...</td>\n",
       "      <td>...</td>\n",
       "    </tr>\n",
       "    <tr>\n",
       "      <th>395</th>\n",
       "      <td>12.57</td>\n",
       "      <td>138</td>\n",
       "      <td>108</td>\n",
       "      <td>17</td>\n",
       "      <td>203</td>\n",
       "      <td>128</td>\n",
       "      <td>Good</td>\n",
       "      <td>33</td>\n",
       "      <td>14</td>\n",
       "      <td>Yes</td>\n",
       "      <td>Yes</td>\n",
       "    </tr>\n",
       "    <tr>\n",
       "      <th>396</th>\n",
       "      <td>6.14</td>\n",
       "      <td>139</td>\n",
       "      <td>23</td>\n",
       "      <td>3</td>\n",
       "      <td>37</td>\n",
       "      <td>120</td>\n",
       "      <td>Medium</td>\n",
       "      <td>55</td>\n",
       "      <td>11</td>\n",
       "      <td>No</td>\n",
       "      <td>Yes</td>\n",
       "    </tr>\n",
       "    <tr>\n",
       "      <th>397</th>\n",
       "      <td>7.41</td>\n",
       "      <td>162</td>\n",
       "      <td>26</td>\n",
       "      <td>12</td>\n",
       "      <td>368</td>\n",
       "      <td>159</td>\n",
       "      <td>Medium</td>\n",
       "      <td>40</td>\n",
       "      <td>18</td>\n",
       "      <td>Yes</td>\n",
       "      <td>Yes</td>\n",
       "    </tr>\n",
       "    <tr>\n",
       "      <th>398</th>\n",
       "      <td>5.94</td>\n",
       "      <td>100</td>\n",
       "      <td>79</td>\n",
       "      <td>7</td>\n",
       "      <td>284</td>\n",
       "      <td>95</td>\n",
       "      <td>Bad</td>\n",
       "      <td>50</td>\n",
       "      <td>12</td>\n",
       "      <td>Yes</td>\n",
       "      <td>Yes</td>\n",
       "    </tr>\n",
       "    <tr>\n",
       "      <th>399</th>\n",
       "      <td>9.71</td>\n",
       "      <td>134</td>\n",
       "      <td>37</td>\n",
       "      <td>0</td>\n",
       "      <td>27</td>\n",
       "      <td>120</td>\n",
       "      <td>Good</td>\n",
       "      <td>49</td>\n",
       "      <td>16</td>\n",
       "      <td>Yes</td>\n",
       "      <td>Yes</td>\n",
       "    </tr>\n",
       "  </tbody>\n",
       "</table>\n",
       "<p>400 rows × 11 columns</p>\n",
       "</div>"
      ],
      "text/plain": [
       "     Sales  CompPrice  Income  Advertising  Population  Price ShelveLoc  Age  \\\n",
       "0     9.50        138      73           11         276    120       Bad   42   \n",
       "1    11.22        111      48           16         260     83      Good   65   \n",
       "2    10.06        113      35           10         269     80    Medium   59   \n",
       "3     7.40        117     100            4         466     97    Medium   55   \n",
       "4     4.15        141      64            3         340    128       Bad   38   \n",
       "..     ...        ...     ...          ...         ...    ...       ...  ...   \n",
       "395  12.57        138     108           17         203    128      Good   33   \n",
       "396   6.14        139      23            3          37    120    Medium   55   \n",
       "397   7.41        162      26           12         368    159    Medium   40   \n",
       "398   5.94        100      79            7         284     95       Bad   50   \n",
       "399   9.71        134      37            0          27    120      Good   49   \n",
       "\n",
       "     Education Urban   US  \n",
       "0           17   Yes  Yes  \n",
       "1           10   Yes  Yes  \n",
       "2           12   Yes  Yes  \n",
       "3           14   Yes  Yes  \n",
       "4           13   Yes   No  \n",
       "..         ...   ...  ...  \n",
       "395         14   Yes  Yes  \n",
       "396         11    No  Yes  \n",
       "397         18   Yes  Yes  \n",
       "398         12   Yes  Yes  \n",
       "399         16   Yes  Yes  \n",
       "\n",
       "[400 rows x 11 columns]"
      ]
     },
     "execution_count": 3,
     "metadata": {},
     "output_type": "execute_result"
    }
   ],
   "source": [
    "df"
   ]
  },
  {
   "cell_type": "code",
   "execution_count": 4,
   "metadata": {
    "ExecuteTime": {
     "end_time": "2021-12-28T21:09:00.833028Z",
     "start_time": "2021-12-28T21:09:00.744610Z"
    }
   },
   "outputs": [],
   "source": [
    "df = pd.get_dummies(df, columns =['ShelveLoc','Urban','US'])"
   ]
  },
  {
   "cell_type": "code",
   "execution_count": 5,
   "metadata": {
    "ExecuteTime": {
     "end_time": "2021-12-28T21:09:00.975458Z",
     "start_time": "2021-12-28T21:09:00.899475Z"
    }
   },
   "outputs": [
    {
     "data": {
      "text/html": [
       "<div>\n",
       "<style scoped>\n",
       "    .dataframe tbody tr th:only-of-type {\n",
       "        vertical-align: middle;\n",
       "    }\n",
       "\n",
       "    .dataframe tbody tr th {\n",
       "        vertical-align: top;\n",
       "    }\n",
       "\n",
       "    .dataframe thead th {\n",
       "        text-align: right;\n",
       "    }\n",
       "</style>\n",
       "<table border=\"1\" class=\"dataframe\">\n",
       "  <thead>\n",
       "    <tr style=\"text-align: right;\">\n",
       "      <th></th>\n",
       "      <th>Sales</th>\n",
       "      <th>CompPrice</th>\n",
       "      <th>Income</th>\n",
       "      <th>Advertising</th>\n",
       "      <th>Population</th>\n",
       "      <th>Price</th>\n",
       "      <th>Age</th>\n",
       "      <th>Education</th>\n",
       "      <th>ShelveLoc_Bad</th>\n",
       "      <th>ShelveLoc_Good</th>\n",
       "      <th>ShelveLoc_Medium</th>\n",
       "      <th>Urban_No</th>\n",
       "      <th>Urban_Yes</th>\n",
       "      <th>US_No</th>\n",
       "      <th>US_Yes</th>\n",
       "    </tr>\n",
       "  </thead>\n",
       "  <tbody>\n",
       "    <tr>\n",
       "      <th>0</th>\n",
       "      <td>9.50</td>\n",
       "      <td>138</td>\n",
       "      <td>73</td>\n",
       "      <td>11</td>\n",
       "      <td>276</td>\n",
       "      <td>120</td>\n",
       "      <td>42</td>\n",
       "      <td>17</td>\n",
       "      <td>1</td>\n",
       "      <td>0</td>\n",
       "      <td>0</td>\n",
       "      <td>0</td>\n",
       "      <td>1</td>\n",
       "      <td>0</td>\n",
       "      <td>1</td>\n",
       "    </tr>\n",
       "    <tr>\n",
       "      <th>1</th>\n",
       "      <td>11.22</td>\n",
       "      <td>111</td>\n",
       "      <td>48</td>\n",
       "      <td>16</td>\n",
       "      <td>260</td>\n",
       "      <td>83</td>\n",
       "      <td>65</td>\n",
       "      <td>10</td>\n",
       "      <td>0</td>\n",
       "      <td>1</td>\n",
       "      <td>0</td>\n",
       "      <td>0</td>\n",
       "      <td>1</td>\n",
       "      <td>0</td>\n",
       "      <td>1</td>\n",
       "    </tr>\n",
       "    <tr>\n",
       "      <th>2</th>\n",
       "      <td>10.06</td>\n",
       "      <td>113</td>\n",
       "      <td>35</td>\n",
       "      <td>10</td>\n",
       "      <td>269</td>\n",
       "      <td>80</td>\n",
       "      <td>59</td>\n",
       "      <td>12</td>\n",
       "      <td>0</td>\n",
       "      <td>0</td>\n",
       "      <td>1</td>\n",
       "      <td>0</td>\n",
       "      <td>1</td>\n",
       "      <td>0</td>\n",
       "      <td>1</td>\n",
       "    </tr>\n",
       "    <tr>\n",
       "      <th>3</th>\n",
       "      <td>7.40</td>\n",
       "      <td>117</td>\n",
       "      <td>100</td>\n",
       "      <td>4</td>\n",
       "      <td>466</td>\n",
       "      <td>97</td>\n",
       "      <td>55</td>\n",
       "      <td>14</td>\n",
       "      <td>0</td>\n",
       "      <td>0</td>\n",
       "      <td>1</td>\n",
       "      <td>0</td>\n",
       "      <td>1</td>\n",
       "      <td>0</td>\n",
       "      <td>1</td>\n",
       "    </tr>\n",
       "    <tr>\n",
       "      <th>4</th>\n",
       "      <td>4.15</td>\n",
       "      <td>141</td>\n",
       "      <td>64</td>\n",
       "      <td>3</td>\n",
       "      <td>340</td>\n",
       "      <td>128</td>\n",
       "      <td>38</td>\n",
       "      <td>13</td>\n",
       "      <td>1</td>\n",
       "      <td>0</td>\n",
       "      <td>0</td>\n",
       "      <td>0</td>\n",
       "      <td>1</td>\n",
       "      <td>1</td>\n",
       "      <td>0</td>\n",
       "    </tr>\n",
       "  </tbody>\n",
       "</table>\n",
       "</div>"
      ],
      "text/plain": [
       "   Sales  CompPrice  Income  Advertising  Population  Price  Age  Education  \\\n",
       "0   9.50        138      73           11         276    120   42         17   \n",
       "1  11.22        111      48           16         260     83   65         10   \n",
       "2  10.06        113      35           10         269     80   59         12   \n",
       "3   7.40        117     100            4         466     97   55         14   \n",
       "4   4.15        141      64            3         340    128   38         13   \n",
       "\n",
       "   ShelveLoc_Bad  ShelveLoc_Good  ShelveLoc_Medium  Urban_No  Urban_Yes  \\\n",
       "0              1               0                 0         0          1   \n",
       "1              0               1                 0         0          1   \n",
       "2              0               0                 1         0          1   \n",
       "3              0               0                 1         0          1   \n",
       "4              1               0                 0         0          1   \n",
       "\n",
       "   US_No  US_Yes  \n",
       "0      0       1  \n",
       "1      0       1  \n",
       "2      0       1  \n",
       "3      0       1  \n",
       "4      1       0  "
      ]
     },
     "execution_count": 5,
     "metadata": {},
     "output_type": "execute_result"
    }
   ],
   "source": [
    "df.head()"
   ]
  },
  {
   "cell_type": "code",
   "execution_count": 6,
   "metadata": {
    "ExecuteTime": {
     "end_time": "2021-12-28T21:09:01.242105Z",
     "start_time": "2021-12-28T21:09:01.042976Z"
    }
   },
   "outputs": [],
   "source": [
    "df['sales']='small'\n",
    "df.loc[df['Sales'] > 7.5,'sales'] = \"large\"\n",
    "df.drop(['Sales'], axis=1,inplace = True)"
   ]
  },
  {
   "cell_type": "code",
   "execution_count": 27,
   "metadata": {
    "ExecuteTime": {
     "end_time": "2021-12-28T21:10:05.929168Z",
     "start_time": "2021-12-28T21:10:05.920748Z"
    }
   },
   "outputs": [
    {
     "data": {
      "text/plain": [
       "array([[138, 73, 11, ..., 0, 1, 'large'],\n",
       "       [111, 48, 16, ..., 0, 1, 'large'],\n",
       "       [113, 35, 10, ..., 0, 1, 'large'],\n",
       "       ...,\n",
       "       [162, 26, 12, ..., 0, 1, 'small'],\n",
       "       [100, 79, 7, ..., 0, 1, 'small'],\n",
       "       [134, 37, 0, ..., 0, 1, 'large']], dtype=object)"
      ]
     },
     "execution_count": 27,
     "metadata": {},
     "output_type": "execute_result"
    }
   ],
   "source": [
    "array = df.values\n",
    "array"
   ]
  },
  {
   "cell_type": "code",
   "execution_count": 8,
   "metadata": {
    "ExecuteTime": {
     "end_time": "2021-12-28T21:09:01.572249Z",
     "start_time": "2021-12-28T21:09:01.388201Z"
    }
   },
   "outputs": [
    {
     "data": {
      "text/plain": [
       "Index(['CompPrice', 'Income', 'Advertising', 'Population', 'Price', 'Age',\n",
       "       'Education', 'ShelveLoc_Bad', 'ShelveLoc_Good', 'ShelveLoc_Medium',\n",
       "       'Urban_No', 'Urban_Yes', 'US_No', 'US_Yes', 'sales'],\n",
       "      dtype='object')"
      ]
     },
     "execution_count": 8,
     "metadata": {},
     "output_type": "execute_result"
    }
   ],
   "source": [
    "df.columns"
   ]
  },
  {
   "cell_type": "code",
   "execution_count": 9,
   "metadata": {
    "ExecuteTime": {
     "end_time": "2021-12-28T21:09:01.741594Z",
     "start_time": "2021-12-28T21:09:01.650473Z"
    }
   },
   "outputs": [],
   "source": [
    "x = array[:,0:14]\n",
    "y = array[:,14]"
   ]
  },
  {
   "cell_type": "code",
   "execution_count": 25,
   "metadata": {
    "ExecuteTime": {
     "end_time": "2021-12-28T21:09:52.364323Z",
     "start_time": "2021-12-28T21:09:52.353316Z"
    }
   },
   "outputs": [
    {
     "data": {
      "text/plain": [
       "array([[138, 73, 11, ..., 1, 0, 1],\n",
       "       [111, 48, 16, ..., 1, 0, 1],\n",
       "       [113, 35, 10, ..., 1, 0, 1],\n",
       "       ...,\n",
       "       [162, 26, 12, ..., 1, 0, 1],\n",
       "       [100, 79, 7, ..., 1, 0, 1],\n",
       "       [134, 37, 0, ..., 1, 0, 1]], dtype=object)"
      ]
     },
     "execution_count": 25,
     "metadata": {},
     "output_type": "execute_result"
    }
   ],
   "source": [
    "x "
   ]
  },
  {
   "cell_type": "code",
   "execution_count": 26,
   "metadata": {
    "ExecuteTime": {
     "end_time": "2021-12-28T21:09:56.401586Z",
     "start_time": "2021-12-28T21:09:56.391039Z"
    }
   },
   "outputs": [
    {
     "data": {
      "text/plain": [
       "array(['large', 'large', 'large', 'small', 'small', 'large', 'small',\n",
       "       'large', 'small', 'small', 'large', 'large', 'small', 'large',\n",
       "       'large', 'large', 'large', 'large', 'large', 'large', 'small',\n",
       "       'large', 'small', 'small', 'large', 'large', 'large', 'small',\n",
       "       'small', 'large', 'large', 'large', 'small', 'large', 'small',\n",
       "       'large', 'large', 'small', 'small', 'small', 'small', 'large',\n",
       "       'large', 'small', 'small', 'small', 'large', 'small', 'small',\n",
       "       'large', 'small', 'small', 'large', 'small', 'small', 'small',\n",
       "       'large', 'small', 'small', 'small', 'large', 'small', 'small',\n",
       "       'large', 'large', 'small', 'large', 'large', 'large', 'large',\n",
       "       'large', 'small', 'small', 'large', 'small', 'large', 'large',\n",
       "       'large', 'small', 'large', 'large', 'large', 'large', 'small',\n",
       "       'small', 'large', 'large', 'large', 'small', 'large', 'small',\n",
       "       'small', 'small', 'large', 'large', 'small', 'large', 'small',\n",
       "       'large', 'small', 'small', 'small', 'small', 'small', 'small',\n",
       "       'small', 'small', 'large', 'small', 'large', 'large', 'small',\n",
       "       'small', 'small', 'large', 'large', 'small', 'large', 'large',\n",
       "       'small', 'small', 'large', 'small', 'large', 'large', 'large',\n",
       "       'large', 'small', 'small', 'small', 'large', 'small', 'large',\n",
       "       'large', 'small', 'small', 'small', 'small', 'large', 'large',\n",
       "       'small', 'small', 'small', 'small', 'large', 'large', 'small',\n",
       "       'large', 'large', 'large', 'large', 'large', 'large', 'small',\n",
       "       'small', 'large', 'small', 'large', 'large', 'large', 'small',\n",
       "       'small', 'small', 'small', 'large', 'small', 'small', 'small',\n",
       "       'small', 'large', 'large', 'large', 'large', 'small', 'small',\n",
       "       'large', 'small', 'large', 'large', 'large', 'small', 'small',\n",
       "       'small', 'small', 'large', 'large', 'large', 'small', 'large',\n",
       "       'large', 'large', 'small', 'large', 'large', 'small', 'small',\n",
       "       'small', 'small', 'small', 'small', 'small', 'small', 'small',\n",
       "       'small', 'large', 'small', 'small', 'large', 'large', 'small',\n",
       "       'small', 'large', 'large', 'large', 'small', 'small', 'small',\n",
       "       'small', 'large', 'large', 'large', 'small', 'small', 'small',\n",
       "       'small', 'small', 'large', 'large', 'small', 'large', 'small',\n",
       "       'large', 'large', 'large', 'large', 'small', 'large', 'large',\n",
       "       'small', 'small', 'large', 'large', 'small', 'large', 'large',\n",
       "       'large', 'small', 'small', 'small', 'small', 'large', 'small',\n",
       "       'large', 'small', 'large', 'large', 'small', 'large', 'small',\n",
       "       'small', 'large', 'small', 'small', 'large', 'small', 'small',\n",
       "       'large', 'small', 'small', 'small', 'large', 'small', 'large',\n",
       "       'large', 'small', 'small', 'small', 'large', 'small', 'small',\n",
       "       'small', 'large', 'large', 'small', 'small', 'large', 'large',\n",
       "       'small', 'small', 'large', 'large', 'small', 'large', 'large',\n",
       "       'large', 'small', 'large', 'small', 'large', 'large', 'large',\n",
       "       'small', 'small', 'large', 'large', 'large', 'small', 'small',\n",
       "       'large', 'large', 'large', 'small', 'small', 'large', 'large',\n",
       "       'small', 'large', 'small', 'large', 'small', 'small', 'large',\n",
       "       'large', 'large', 'small', 'large', 'small', 'small', 'small',\n",
       "       'large', 'small', 'large', 'small', 'small', 'large', 'small',\n",
       "       'small', 'large', 'small', 'large', 'small', 'small', 'large',\n",
       "       'small', 'large', 'small', 'large', 'small', 'large', 'large',\n",
       "       'large', 'large', 'large', 'large', 'small', 'small', 'small',\n",
       "       'large', 'small', 'small', 'large', 'large', 'small', 'large',\n",
       "       'large', 'small', 'small', 'large', 'large', 'large', 'large',\n",
       "       'large', 'large', 'small', 'large', 'large', 'large', 'small',\n",
       "       'small', 'small', 'large', 'small', 'small', 'large', 'large',\n",
       "       'small', 'small', 'large', 'large', 'large', 'small', 'small',\n",
       "       'small', 'small', 'small', 'large', 'small', 'small', 'small',\n",
       "       'large'], dtype=object)"
      ]
     },
     "execution_count": 26,
     "metadata": {},
     "output_type": "execute_result"
    }
   ],
   "source": [
    "y "
   ]
  },
  {
   "cell_type": "markdown",
   "metadata": {},
   "source": [
    "### spling "
   ]
  },
  {
   "cell_type": "code",
   "execution_count": 10,
   "metadata": {
    "ExecuteTime": {
     "end_time": "2021-12-28T21:09:01.899211Z",
     "start_time": "2021-12-28T21:09:01.840888Z"
    }
   },
   "outputs": [],
   "source": [
    "x_train,x_test, y_train, y_test = train_test_split(x,y, test_size = 0.3)"
   ]
  },
  {
   "cell_type": "code",
   "execution_count": 24,
   "metadata": {
    "ExecuteTime": {
     "end_time": "2021-12-28T21:09:42.498296Z",
     "start_time": "2021-12-28T21:09:42.481314Z"
    }
   },
   "outputs": [
    {
     "data": {
      "text/plain": [
       "(array([[134, 103, 13, ..., 0, 0, 1],\n",
       "        [115, 28, 11, ..., 1, 0, 1],\n",
       "        [142, 73, 14, ..., 0, 0, 1],\n",
       "        ...,\n",
       "        [114, 38, 13, ..., 1, 0, 1],\n",
       "        [115, 115, 3, ..., 1, 0, 1],\n",
       "        [116, 37, 0, ..., 1, 1, 0]], dtype=object),\n",
       " array([[109, 22, 10, ..., 0, 0, 1],\n",
       "        [137, 112, 15, ..., 1, 0, 1],\n",
       "        [111, 52, 0, ..., 1, 0, 1],\n",
       "        ...,\n",
       "        [130, 100, 0, ..., 1, 1, 0],\n",
       "        [117, 32, 0, ..., 1, 1, 0],\n",
       "        [120, 77, 15, ..., 1, 0, 1]], dtype=object),\n",
       " array(['small', 'large', 'large', 'large', 'large', 'small', 'small',\n",
       "        'large', 'large', 'large', 'small', 'small', 'large', 'small',\n",
       "        'small', 'small', 'large', 'large', 'large', 'large', 'large',\n",
       "        'small', 'small', 'large', 'small', 'large', 'large', 'small',\n",
       "        'small', 'large', 'small', 'large', 'large', 'large', 'large',\n",
       "        'small', 'large', 'small', 'small', 'large', 'small', 'large',\n",
       "        'large', 'large', 'large', 'large', 'small', 'small', 'small',\n",
       "        'large', 'large', 'small', 'large', 'large', 'large', 'small',\n",
       "        'small', 'small', 'small', 'small', 'large', 'small', 'large',\n",
       "        'small', 'small', 'small', 'large', 'small', 'small', 'small',\n",
       "        'small', 'small', 'large', 'large', 'large', 'large', 'small',\n",
       "        'small', 'small', 'large', 'large', 'large', 'large', 'small',\n",
       "        'large', 'large', 'small', 'small', 'large', 'small', 'large',\n",
       "        'small', 'small', 'large', 'large', 'small', 'large', 'small',\n",
       "        'small', 'large', 'large', 'large', 'small', 'large', 'small',\n",
       "        'large', 'small', 'large', 'large', 'large', 'large', 'large',\n",
       "        'small', 'small', 'large', 'large', 'large', 'small', 'small',\n",
       "        'large', 'small', 'small', 'large', 'small', 'small', 'small',\n",
       "        'large', 'small', 'small', 'large', 'small', 'small', 'large',\n",
       "        'large', 'large', 'large', 'small', 'large', 'large', 'small',\n",
       "        'large', 'large', 'small', 'small', 'large', 'small', 'large',\n",
       "        'large', 'small', 'large', 'large', 'small', 'small', 'small',\n",
       "        'large', 'small', 'large', 'large', 'large', 'small', 'small',\n",
       "        'small', 'large', 'large', 'small', 'large', 'large', 'small',\n",
       "        'large', 'small', 'large', 'small', 'large', 'large', 'small',\n",
       "        'small', 'small', 'small', 'small', 'large', 'small', 'small',\n",
       "        'small', 'large', 'large', 'large', 'large', 'small', 'large',\n",
       "        'small', 'small', 'small', 'large', 'small', 'small', 'small',\n",
       "        'small', 'large', 'small', 'small', 'large', 'large', 'small',\n",
       "        'large', 'large', 'large', 'large', 'large', 'small', 'large',\n",
       "        'small', 'small', 'large', 'large', 'large', 'small', 'large',\n",
       "        'small', 'small', 'large', 'large', 'large', 'small', 'small',\n",
       "        'small', 'small', 'small', 'small', 'large', 'small', 'large',\n",
       "        'small', 'large', 'large', 'large', 'small', 'small', 'small',\n",
       "        'small', 'small', 'small', 'large', 'small', 'small', 'small',\n",
       "        'small', 'small', 'large', 'small', 'small', 'large', 'small',\n",
       "        'large', 'large', 'large', 'large', 'large', 'large', 'large',\n",
       "        'small', 'large', 'large', 'large', 'large', 'small', 'large',\n",
       "        'large', 'large', 'small', 'small', 'large', 'small', 'large',\n",
       "        'large', 'large', 'small', 'large', 'large', 'small', 'large'],\n",
       "       dtype=object),\n",
       " array(['large', 'small', 'small', 'large', 'large', 'small', 'small',\n",
       "        'large', 'small', 'large', 'large', 'large', 'small', 'large',\n",
       "        'small', 'small', 'small', 'small', 'small', 'small', 'large',\n",
       "        'large', 'small', 'small', 'large', 'small', 'small', 'small',\n",
       "        'small', 'small', 'small', 'small', 'large', 'large', 'small',\n",
       "        'small', 'large', 'small', 'small', 'large', 'small', 'large',\n",
       "        'large', 'large', 'small', 'small', 'small', 'large', 'large',\n",
       "        'large', 'small', 'small', 'small', 'small', 'large', 'small',\n",
       "        'large', 'large', 'small', 'small', 'large', 'large', 'large',\n",
       "        'large', 'small', 'small', 'large', 'large', 'large', 'large',\n",
       "        'large', 'large', 'small', 'small', 'large', 'large', 'small',\n",
       "        'small', 'small', 'small', 'small', 'large', 'large', 'small',\n",
       "        'small', 'large', 'small', 'large', 'small', 'large', 'large',\n",
       "        'small', 'small', 'small', 'large', 'small', 'small', 'large',\n",
       "        'small', 'small', 'large', 'small', 'small', 'small', 'small',\n",
       "        'large', 'small', 'small', 'large', 'small', 'small', 'large',\n",
       "        'large', 'large', 'large', 'large', 'large', 'small', 'small',\n",
       "        'small'], dtype=object))"
      ]
     },
     "execution_count": 24,
     "metadata": {},
     "output_type": "execute_result"
    }
   ],
   "source": [
    "x_train,x_test, y_train, y_test "
   ]
  },
  {
   "cell_type": "code",
   "execution_count": 11,
   "metadata": {
    "ExecuteTime": {
     "end_time": "2021-12-28T21:09:05.112121Z",
     "start_time": "2021-12-28T21:09:01.981022Z"
    }
   },
   "outputs": [
    {
     "name": "stdout",
     "output_type": "stream",
     "text": [
      "0.8125\n"
     ]
    },
    {
     "data": {
      "text/plain": [
       "array([[40, 13],\n",
       "       [12, 55]], dtype=int64)"
      ]
     },
     "execution_count": 11,
     "metadata": {},
     "output_type": "execute_result"
    }
   ],
   "source": [
    "num_trees = 100\n",
    "max_features = 3    #\n",
    "kfold = KFold(n_splits=10)\n",
    "model = RandomForestClassifier(n_estimators=num_trees, max_features=max_features) \n",
    "model.fit(x_train,y_train)\n",
    "pred = model.predict(x_test)\n",
    "results = cross_val_score(model, x,y, cv=kfold)\n",
    "\n",
    "print(results.mean())\n",
    "confusion_matrix(y_test, pred)"
   ]
  },
  {
   "cell_type": "code",
   "execution_count": 12,
   "metadata": {
    "ExecuteTime": {
     "end_time": "2021-12-28T21:09:05.206231Z",
     "start_time": "2021-12-28T21:09:05.194255Z"
    }
   },
   "outputs": [
    {
     "data": {
      "text/plain": [
       "array([0.8  , 0.875, 0.675, 0.8  , 0.775, 0.875, 0.825, 0.85 , 0.8  ,\n",
       "       0.85 ])"
      ]
     },
     "execution_count": 12,
     "metadata": {},
     "output_type": "execute_result"
    }
   ],
   "source": [
    "results"
   ]
  },
  {
   "cell_type": "code",
   "execution_count": 13,
   "metadata": {
    "ExecuteTime": {
     "end_time": "2021-12-28T21:09:05.632275Z",
     "start_time": "2021-12-28T21:09:05.288426Z"
    }
   },
   "outputs": [
    {
     "data": {
      "text/plain": [
       "RandomForestClassifier(max_features=3)"
      ]
     },
     "execution_count": 13,
     "metadata": {},
     "output_type": "execute_result"
    }
   ],
   "source": [
    "model.fit(x_train, y_train)"
   ]
  },
  {
   "cell_type": "markdown",
   "metadata": {},
   "source": [
    " prediction"
   ]
  },
  {
   "cell_type": "code",
   "execution_count": 14,
   "metadata": {
    "ExecuteTime": {
     "end_time": "2021-12-28T21:09:05.756315Z",
     "start_time": "2021-12-28T21:09:05.712668Z"
    }
   },
   "outputs": [],
   "source": [
    "pred = model.predict(x_test)"
   ]
  },
  {
   "cell_type": "code",
   "execution_count": 15,
   "metadata": {
    "ExecuteTime": {
     "end_time": "2021-12-28T21:09:05.850613Z",
     "start_time": "2021-12-28T21:09:05.822402Z"
    }
   },
   "outputs": [
    {
     "data": {
      "text/plain": [
       "array(['large', 'small', 'large', 'large', 'small', 'small', 'small',\n",
       "       'large', 'small', 'large', 'large', 'small', 'small', 'large',\n",
       "       'small', 'small', 'large', 'small', 'small', 'small', 'large',\n",
       "       'small', 'large', 'small', 'large', 'small', 'small', 'small',\n",
       "       'large', 'small', 'small', 'small', 'large', 'large', 'small',\n",
       "       'large', 'small', 'small', 'small', 'large', 'small', 'small',\n",
       "       'large', 'small', 'small', 'small', 'small', 'large', 'large',\n",
       "       'large', 'small', 'small', 'small', 'large', 'small', 'small',\n",
       "       'small', 'large', 'small', 'small', 'large', 'large', 'large',\n",
       "       'small', 'large', 'small', 'large', 'large', 'large', 'large',\n",
       "       'large', 'large', 'small', 'large', 'large', 'small', 'small',\n",
       "       'small', 'small', 'small', 'small', 'large', 'large', 'small',\n",
       "       'small', 'small', 'large', 'large', 'small', 'large', 'large',\n",
       "       'small', 'small', 'small', 'large', 'small', 'small', 'large',\n",
       "       'small', 'small', 'large', 'small', 'small', 'small', 'small',\n",
       "       'small', 'small', 'small', 'large', 'small', 'small', 'large',\n",
       "       'large', 'large', 'large', 'large', 'large', 'large', 'small',\n",
       "       'small'], dtype=object)"
      ]
     },
     "execution_count": 15,
     "metadata": {},
     "output_type": "execute_result"
    }
   ],
   "source": [
    "pred"
   ]
  },
  {
   "cell_type": "markdown",
   "metadata": {},
   "source": [
    " ## create dataframe actual and prediction "
   ]
  },
  {
   "cell_type": "code",
   "execution_count": 16,
   "metadata": {
    "ExecuteTime": {
     "end_time": "2021-12-28T21:09:05.959172Z",
     "start_time": "2021-12-28T21:09:05.931241Z"
    }
   },
   "outputs": [],
   "source": [
    "data = pd.DataFrame({ \"actual\":y_test,\"prection\":pred})"
   ]
  },
  {
   "cell_type": "code",
   "execution_count": 17,
   "metadata": {
    "ExecuteTime": {
     "end_time": "2021-12-28T21:09:06.101094Z",
     "start_time": "2021-12-28T21:09:06.057012Z"
    }
   },
   "outputs": [
    {
     "data": {
      "text/html": [
       "<div>\n",
       "<style scoped>\n",
       "    .dataframe tbody tr th:only-of-type {\n",
       "        vertical-align: middle;\n",
       "    }\n",
       "\n",
       "    .dataframe tbody tr th {\n",
       "        vertical-align: top;\n",
       "    }\n",
       "\n",
       "    .dataframe thead th {\n",
       "        text-align: right;\n",
       "    }\n",
       "</style>\n",
       "<table border=\"1\" class=\"dataframe\">\n",
       "  <thead>\n",
       "    <tr style=\"text-align: right;\">\n",
       "      <th></th>\n",
       "      <th>actual</th>\n",
       "      <th>prection</th>\n",
       "    </tr>\n",
       "  </thead>\n",
       "  <tbody>\n",
       "    <tr>\n",
       "      <th>0</th>\n",
       "      <td>large</td>\n",
       "      <td>large</td>\n",
       "    </tr>\n",
       "    <tr>\n",
       "      <th>1</th>\n",
       "      <td>small</td>\n",
       "      <td>small</td>\n",
       "    </tr>\n",
       "    <tr>\n",
       "      <th>2</th>\n",
       "      <td>small</td>\n",
       "      <td>large</td>\n",
       "    </tr>\n",
       "    <tr>\n",
       "      <th>3</th>\n",
       "      <td>large</td>\n",
       "      <td>large</td>\n",
       "    </tr>\n",
       "    <tr>\n",
       "      <th>4</th>\n",
       "      <td>large</td>\n",
       "      <td>small</td>\n",
       "    </tr>\n",
       "    <tr>\n",
       "      <th>...</th>\n",
       "      <td>...</td>\n",
       "      <td>...</td>\n",
       "    </tr>\n",
       "    <tr>\n",
       "      <th>115</th>\n",
       "      <td>large</td>\n",
       "      <td>large</td>\n",
       "    </tr>\n",
       "    <tr>\n",
       "      <th>116</th>\n",
       "      <td>large</td>\n",
       "      <td>large</td>\n",
       "    </tr>\n",
       "    <tr>\n",
       "      <th>117</th>\n",
       "      <td>small</td>\n",
       "      <td>large</td>\n",
       "    </tr>\n",
       "    <tr>\n",
       "      <th>118</th>\n",
       "      <td>small</td>\n",
       "      <td>small</td>\n",
       "    </tr>\n",
       "    <tr>\n",
       "      <th>119</th>\n",
       "      <td>small</td>\n",
       "      <td>small</td>\n",
       "    </tr>\n",
       "  </tbody>\n",
       "</table>\n",
       "<p>120 rows × 2 columns</p>\n",
       "</div>"
      ],
      "text/plain": [
       "    actual prection\n",
       "0    large    large\n",
       "1    small    small\n",
       "2    small    large\n",
       "3    large    large\n",
       "4    large    small\n",
       "..     ...      ...\n",
       "115  large    large\n",
       "116  large    large\n",
       "117  small    large\n",
       "118  small    small\n",
       "119  small    small\n",
       "\n",
       "[120 rows x 2 columns]"
      ]
     },
     "execution_count": 17,
     "metadata": {},
     "output_type": "execute_result"
    }
   ],
   "source": [
    "data"
   ]
  },
  {
   "cell_type": "code",
   "execution_count": 23,
   "metadata": {
    "ExecuteTime": {
     "end_time": "2021-12-28T21:09:20.857240Z",
     "start_time": "2021-12-28T21:09:20.837296Z"
    }
   },
   "outputs": [
    {
     "data": {
      "text/plain": [
       "Index(['CompPrice', 'Income', 'Advertising', 'Population', 'Price', 'Age',\n",
       "       'Education', 'ShelveLoc_Bad', 'ShelveLoc_Good', 'ShelveLoc_Medium',\n",
       "       'Urban_No', 'Urban_Yes', 'US_No', 'US_Yes', 'sales'],\n",
       "      dtype='object')"
      ]
     },
     "execution_count": 23,
     "metadata": {},
     "output_type": "execute_result"
    }
   ],
   "source": [
    "df1 = df.columns\n",
    "df1"
   ]
  },
  {
   "cell_type": "code",
   "execution_count": 19,
   "metadata": {
    "ExecuteTime": {
     "end_time": "2021-12-28T21:09:06.382227Z",
     "start_time": "2021-12-28T21:09:06.326559Z"
    }
   },
   "outputs": [],
   "source": [
    "df1= df1.drop(['sales'])"
   ]
  },
  {
   "cell_type": "code",
   "execution_count": 28,
   "metadata": {
    "ExecuteTime": {
     "end_time": "2021-12-28T21:10:43.925105Z",
     "start_time": "2021-12-28T21:10:43.892196Z"
    }
   },
   "outputs": [
    {
     "data": {
      "text/plain": [
       "array([0.10191693, 0.09380322, 0.10937679, 0.08492572, 0.22223374,\n",
       "       0.13822687, 0.05392235, 0.04080973, 0.08687025, 0.02458336,\n",
       "       0.01048698, 0.01076309, 0.01259438, 0.0094866 ])"
      ]
     },
     "execution_count": 28,
     "metadata": {},
     "output_type": "execute_result"
    }
   ],
   "source": [
    "feature = model.feature_importances_\n",
    "feature"
   ]
  },
  {
   "cell_type": "code",
   "execution_count": 21,
   "metadata": {
    "ExecuteTime": {
     "end_time": "2021-12-28T21:09:06.660136Z",
     "start_time": "2021-12-28T21:09:06.632098Z"
    }
   },
   "outputs": [],
   "source": [
    "data = pd.DataFrame({'columns':df1,\"importances\":feature})"
   ]
  },
  {
   "cell_type": "code",
   "execution_count": 22,
   "metadata": {
    "ExecuteTime": {
     "end_time": "2021-12-28T21:09:06.875587Z",
     "start_time": "2021-12-28T21:09:06.727041Z"
    }
   },
   "outputs": [
    {
     "data": {
      "text/html": [
       "<div>\n",
       "<style scoped>\n",
       "    .dataframe tbody tr th:only-of-type {\n",
       "        vertical-align: middle;\n",
       "    }\n",
       "\n",
       "    .dataframe tbody tr th {\n",
       "        vertical-align: top;\n",
       "    }\n",
       "\n",
       "    .dataframe thead th {\n",
       "        text-align: right;\n",
       "    }\n",
       "</style>\n",
       "<table border=\"1\" class=\"dataframe\">\n",
       "  <thead>\n",
       "    <tr style=\"text-align: right;\">\n",
       "      <th></th>\n",
       "      <th>columns</th>\n",
       "      <th>importances</th>\n",
       "    </tr>\n",
       "  </thead>\n",
       "  <tbody>\n",
       "    <tr>\n",
       "      <th>0</th>\n",
       "      <td>CompPrice</td>\n",
       "      <td>0.101917</td>\n",
       "    </tr>\n",
       "    <tr>\n",
       "      <th>1</th>\n",
       "      <td>Income</td>\n",
       "      <td>0.093803</td>\n",
       "    </tr>\n",
       "    <tr>\n",
       "      <th>2</th>\n",
       "      <td>Advertising</td>\n",
       "      <td>0.109377</td>\n",
       "    </tr>\n",
       "    <tr>\n",
       "      <th>3</th>\n",
       "      <td>Population</td>\n",
       "      <td>0.084926</td>\n",
       "    </tr>\n",
       "    <tr>\n",
       "      <th>4</th>\n",
       "      <td>Price</td>\n",
       "      <td>0.222234</td>\n",
       "    </tr>\n",
       "    <tr>\n",
       "      <th>5</th>\n",
       "      <td>Age</td>\n",
       "      <td>0.138227</td>\n",
       "    </tr>\n",
       "    <tr>\n",
       "      <th>6</th>\n",
       "      <td>Education</td>\n",
       "      <td>0.053922</td>\n",
       "    </tr>\n",
       "    <tr>\n",
       "      <th>7</th>\n",
       "      <td>ShelveLoc_Bad</td>\n",
       "      <td>0.040810</td>\n",
       "    </tr>\n",
       "    <tr>\n",
       "      <th>8</th>\n",
       "      <td>ShelveLoc_Good</td>\n",
       "      <td>0.086870</td>\n",
       "    </tr>\n",
       "    <tr>\n",
       "      <th>9</th>\n",
       "      <td>ShelveLoc_Medium</td>\n",
       "      <td>0.024583</td>\n",
       "    </tr>\n",
       "    <tr>\n",
       "      <th>10</th>\n",
       "      <td>Urban_No</td>\n",
       "      <td>0.010487</td>\n",
       "    </tr>\n",
       "    <tr>\n",
       "      <th>11</th>\n",
       "      <td>Urban_Yes</td>\n",
       "      <td>0.010763</td>\n",
       "    </tr>\n",
       "    <tr>\n",
       "      <th>12</th>\n",
       "      <td>US_No</td>\n",
       "      <td>0.012594</td>\n",
       "    </tr>\n",
       "    <tr>\n",
       "      <th>13</th>\n",
       "      <td>US_Yes</td>\n",
       "      <td>0.009487</td>\n",
       "    </tr>\n",
       "  </tbody>\n",
       "</table>\n",
       "</div>"
      ],
      "text/plain": [
       "             columns  importances\n",
       "0          CompPrice     0.101917\n",
       "1             Income     0.093803\n",
       "2        Advertising     0.109377\n",
       "3         Population     0.084926\n",
       "4              Price     0.222234\n",
       "5                Age     0.138227\n",
       "6          Education     0.053922\n",
       "7      ShelveLoc_Bad     0.040810\n",
       "8     ShelveLoc_Good     0.086870\n",
       "9   ShelveLoc_Medium     0.024583\n",
       "10          Urban_No     0.010487\n",
       "11         Urban_Yes     0.010763\n",
       "12             US_No     0.012594\n",
       "13            US_Yes     0.009487"
      ]
     },
     "execution_count": 22,
     "metadata": {},
     "output_type": "execute_result"
    }
   ],
   "source": [
    "data"
   ]
  }
 ],
 "metadata": {
  "kernelspec": {
   "display_name": "Python 3",
   "language": "python",
   "name": "python3"
  },
  "language_info": {
   "codemirror_mode": {
    "name": "ipython",
    "version": 3
   },
   "file_extension": ".py",
   "mimetype": "text/x-python",
   "name": "python",
   "nbconvert_exporter": "python",
   "pygments_lexer": "ipython3",
   "version": "3.8.5"
  },
  "toc": {
   "base_numbering": 1,
   "nav_menu": {},
   "number_sections": true,
   "sideBar": true,
   "skip_h1_title": false,
   "title_cell": "Table of Contents",
   "title_sidebar": "Contents",
   "toc_cell": false,
   "toc_position": {},
   "toc_section_display": true,
   "toc_window_display": false
  },
  "varInspector": {
   "cols": {
    "lenName": 16,
    "lenType": 16,
    "lenVar": 40
   },
   "kernels_config": {
    "python": {
     "delete_cmd_postfix": "",
     "delete_cmd_prefix": "del ",
     "library": "var_list.py",
     "varRefreshCmd": "print(var_dic_list())"
    },
    "r": {
     "delete_cmd_postfix": ") ",
     "delete_cmd_prefix": "rm(",
     "library": "var_list.r",
     "varRefreshCmd": "cat(var_dic_list()) "
    }
   },
   "types_to_exclude": [
    "module",
    "function",
    "builtin_function_or_method",
    "instance",
    "_Feature"
   ],
   "window_display": false
  }
 },
 "nbformat": 4,
 "nbformat_minor": 5
}
